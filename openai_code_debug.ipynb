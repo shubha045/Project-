{
  "nbformat": 4,
  "nbformat_minor": 0,
  "metadata": {
    "colab": {
      "provenance": [],
      "authorship_tag": "ABX9TyOCB87jUnM2AMr2mDwFxl0N",
      "include_colab_link": true
    },
    "kernelspec": {
      "name": "python3",
      "display_name": "Python 3"
    },
    "language_info": {
      "name": "python"
    }
  },
  "cells": [
    {
      "cell_type": "markdown",
      "metadata": {
        "id": "view-in-github",
        "colab_type": "text"
      },
      "source": [
        "<a href=\"https://colab.research.google.com/github/shubha045/Project-/blob/main/openai_code_debug.ipynb\" target=\"_parent\"><img src=\"https://colab.research.google.com/assets/colab-badge.svg\" alt=\"Open In Colab\"/></a>"
      ]
    },
    {
      "cell_type": "code",
      "source": [
        "# ⚙️ Step 1: Install necessary packages\n",
        "!pip install openai-agents\n",
        "\n",
        "# 🔑 Step 2: Set your OpenAI API key\n",
        "import os\n",
        "from google.colab import userdata\n",
        "os.environ['OPENAI_API_KEY'] = userdata.get ('OPENAI_API_KEY')"
      ],
      "metadata": {
        "colab": {
          "base_uri": "https://localhost:8080/"
        },
        "id": "LKDa0sbV0ZBV",
        "outputId": "8072e54e-567c-4cb7-d97a-09b0457c5989"
      },
      "execution_count": null,
      "outputs": [
        {
          "output_type": "stream",
          "name": "stdout",
          "text": [
            "Requirement already satisfied: openai-agents in /usr/local/lib/python3.11/dist-packages (0.2.4)\n",
            "Requirement already satisfied: griffe<2,>=1.5.6 in /usr/local/lib/python3.11/dist-packages (from openai-agents) (1.9.0)\n",
            "Requirement already satisfied: mcp<2,>=1.11.0 in /usr/local/lib/python3.11/dist-packages (from openai-agents) (1.12.2)\n",
            "Requirement already satisfied: openai<2,>=1.97.1 in /usr/local/lib/python3.11/dist-packages (from openai-agents) (1.97.1)\n",
            "Requirement already satisfied: pydantic<3,>=2.10 in /usr/local/lib/python3.11/dist-packages (from openai-agents) (2.11.7)\n",
            "Requirement already satisfied: requests<3,>=2.0 in /usr/local/lib/python3.11/dist-packages (from openai-agents) (2.32.3)\n",
            "Requirement already satisfied: types-requests<3,>=2.0 in /usr/local/lib/python3.11/dist-packages (from openai-agents) (2.32.4.20250611)\n",
            "Requirement already satisfied: typing-extensions<5,>=4.12.2 in /usr/local/lib/python3.11/dist-packages (from openai-agents) (4.14.1)\n",
            "Requirement already satisfied: colorama>=0.4 in /usr/local/lib/python3.11/dist-packages (from griffe<2,>=1.5.6->openai-agents) (0.4.6)\n",
            "Requirement already satisfied: anyio>=4.5 in /usr/local/lib/python3.11/dist-packages (from mcp<2,>=1.11.0->openai-agents) (4.9.0)\n",
            "Requirement already satisfied: httpx-sse>=0.4 in /usr/local/lib/python3.11/dist-packages (from mcp<2,>=1.11.0->openai-agents) (0.4.1)\n",
            "Requirement already satisfied: httpx>=0.27 in /usr/local/lib/python3.11/dist-packages (from mcp<2,>=1.11.0->openai-agents) (0.28.1)\n",
            "Requirement already satisfied: jsonschema>=4.20.0 in /usr/local/lib/python3.11/dist-packages (from mcp<2,>=1.11.0->openai-agents) (4.25.0)\n",
            "Requirement already satisfied: pydantic-settings>=2.5.2 in /usr/local/lib/python3.11/dist-packages (from mcp<2,>=1.11.0->openai-agents) (2.10.1)\n",
            "Requirement already satisfied: python-multipart>=0.0.9 in /usr/local/lib/python3.11/dist-packages (from mcp<2,>=1.11.0->openai-agents) (0.0.20)\n",
            "Requirement already satisfied: sse-starlette>=1.6.1 in /usr/local/lib/python3.11/dist-packages (from mcp<2,>=1.11.0->openai-agents) (3.0.2)\n",
            "Requirement already satisfied: starlette>=0.27 in /usr/local/lib/python3.11/dist-packages (from mcp<2,>=1.11.0->openai-agents) (0.47.2)\n",
            "Requirement already satisfied: uvicorn>=0.23.1 in /usr/local/lib/python3.11/dist-packages (from mcp<2,>=1.11.0->openai-agents) (0.35.0)\n",
            "Requirement already satisfied: distro<2,>=1.7.0 in /usr/local/lib/python3.11/dist-packages (from openai<2,>=1.97.1->openai-agents) (1.9.0)\n",
            "Requirement already satisfied: jiter<1,>=0.4.0 in /usr/local/lib/python3.11/dist-packages (from openai<2,>=1.97.1->openai-agents) (0.10.0)\n",
            "Requirement already satisfied: sniffio in /usr/local/lib/python3.11/dist-packages (from openai<2,>=1.97.1->openai-agents) (1.3.1)\n",
            "Requirement already satisfied: tqdm>4 in /usr/local/lib/python3.11/dist-packages (from openai<2,>=1.97.1->openai-agents) (4.67.1)\n",
            "Requirement already satisfied: annotated-types>=0.6.0 in /usr/local/lib/python3.11/dist-packages (from pydantic<3,>=2.10->openai-agents) (0.7.0)\n",
            "Requirement already satisfied: pydantic-core==2.33.2 in /usr/local/lib/python3.11/dist-packages (from pydantic<3,>=2.10->openai-agents) (2.33.2)\n",
            "Requirement already satisfied: typing-inspection>=0.4.0 in /usr/local/lib/python3.11/dist-packages (from pydantic<3,>=2.10->openai-agents) (0.4.1)\n",
            "Requirement already satisfied: charset-normalizer<4,>=2 in /usr/local/lib/python3.11/dist-packages (from requests<3,>=2.0->openai-agents) (3.4.2)\n",
            "Requirement already satisfied: idna<4,>=2.5 in /usr/local/lib/python3.11/dist-packages (from requests<3,>=2.0->openai-agents) (3.10)\n",
            "Requirement already satisfied: urllib3<3,>=1.21.1 in /usr/local/lib/python3.11/dist-packages (from requests<3,>=2.0->openai-agents) (2.5.0)\n",
            "Requirement already satisfied: certifi>=2017.4.17 in /usr/local/lib/python3.11/dist-packages (from requests<3,>=2.0->openai-agents) (2025.7.14)\n",
            "Requirement already satisfied: httpcore==1.* in /usr/local/lib/python3.11/dist-packages (from httpx>=0.27->mcp<2,>=1.11.0->openai-agents) (1.0.9)\n",
            "Requirement already satisfied: h11>=0.16 in /usr/local/lib/python3.11/dist-packages (from httpcore==1.*->httpx>=0.27->mcp<2,>=1.11.0->openai-agents) (0.16.0)\n",
            "Requirement already satisfied: attrs>=22.2.0 in /usr/local/lib/python3.11/dist-packages (from jsonschema>=4.20.0->mcp<2,>=1.11.0->openai-agents) (25.3.0)\n",
            "Requirement already satisfied: jsonschema-specifications>=2023.03.6 in /usr/local/lib/python3.11/dist-packages (from jsonschema>=4.20.0->mcp<2,>=1.11.0->openai-agents) (2025.4.1)\n",
            "Requirement already satisfied: referencing>=0.28.4 in /usr/local/lib/python3.11/dist-packages (from jsonschema>=4.20.0->mcp<2,>=1.11.0->openai-agents) (0.36.2)\n",
            "Requirement already satisfied: rpds-py>=0.7.1 in /usr/local/lib/python3.11/dist-packages (from jsonschema>=4.20.0->mcp<2,>=1.11.0->openai-agents) (0.26.0)\n",
            "Requirement already satisfied: python-dotenv>=0.21.0 in /usr/local/lib/python3.11/dist-packages (from pydantic-settings>=2.5.2->mcp<2,>=1.11.0->openai-agents) (1.1.1)\n",
            "Requirement already satisfied: click>=7.0 in /usr/local/lib/python3.11/dist-packages (from uvicorn>=0.23.1->mcp<2,>=1.11.0->openai-agents) (8.2.1)\n"
          ]
        }
      ]
    },
    {
      "cell_type": "code",
      "source": [
        "# 🧰 Step 3: Import tools and define all necessary functions\n",
        "from agents import Agent, Runner, function_tool\n",
        "import subprocess\n",
        "\n",
        "# 🎯 Tool 1: Execute the code using subprocess\n",
        "@function_tool\n",
        "def execute_code(code: str) -> dict:\n",
        "    try:\n",
        "        result = subprocess.run(\n",
        "            ['python3', '-c', code],\n",
        "            capture_output=True,\n",
        "            timeout=5,\n",
        "            text=True\n",
        "        )\n",
        "        return {\n",
        "            \"stdout\": result.stdout,\n",
        "            \"stderr\": result.stderr,\n",
        "            \"returncode\": result.returncode\n",
        "        }\n",
        "    except Exception as e:\n",
        "        return {\"stderr\": str(e), \"stdout\": \"\", \"returncode\": -1}\n",
        "\n",
        "# 🎯 Tool 2: Parse error from stderr\n",
        "@function_tool\n",
        "def parse_error(stderr: str) -> str:\n",
        "    if not stderr:\n",
        "        return \"No errors found.\"\n",
        "    return f\"Error detected:\\n{stderr}\"\n",
        "\n",
        "# 🎯 Tool 3: Suggest fix using OpenAI agent\n",
        "# Define a correction agent to suggest code fixes\n",
        "correction_agent = Agent(\n",
        "    name=\"Corrector\",\n",
        "    instructions=\"You are an expert Python developer. You fix code based on the code and error messages provided.\",\n",
        "    model=\"gpt-4\"\n",
        ")\n",
        "\n",
        "@function_tool\n",
        "def suggest_fix(code: str, error: str) -> str:\n",
        "    prompt = f\"\"\"\n",
        "    I have the following Python code:\n",
        "\n",
        "    ```python\n",
        "    {code}\n",
        "    ```\n",
        "\n",
        "    And it throws this error:\n",
        "\n",
        "    ```\n",
        "    {error}\n",
        "    ```\n",
        "\n",
        "    Please suggest how to fix it.\n",
        "    \"\"\"\n",
        "    response = correction_agent(prompt)\n",
        "    return response.output"
      ],
      "metadata": {
        "id": "hs6Zlxi535ct"
      },
      "execution_count": null,
      "outputs": []
    },
    {
      "cell_type": "code",
      "source": [
        "# 🤖 Final Debugger Agent\n",
        "debugger_agent = Agent(\n",
        "    name=\"Debugger\",\n",
        "    instructions=\"Take Python code, run it, parse errors, and suggest fixes.\",\n",
        "    tools=[execute_code, parse_error, suggest_fix]\n",
        ")"
      ],
      "metadata": {
        "id": "zeYODFnd3OzF"
      },
      "execution_count": null,
      "outputs": []
    },
    {
      "cell_type": "code",
      "source": [
        "code_input = \"\"\"\n",
        "def divide(a, b):\n",
        "    return a / b\n",
        "\n",
        "print(divide(10, 5))\n",
        "\"\"\"\n",
        "import asyncio\n",
        "async def run_debugger():\n",
        "   result = await Runner.run(starting_agent=debugger_agent, input= code_input)\n",
        "   print(\"💡 Final Output:\\n\", result.final_output)\n",
        "\n",
        "await run_debugger()"
      ],
      "metadata": {
        "colab": {
          "base_uri": "https://localhost:8080/"
        },
        "id": "BsIkdaho6AAQ",
        "outputId": "762b86c9-7ce4-4b84-e328-0ad8a806f6ea"
      },
      "execution_count": null,
      "outputs": [
        {
          "output_type": "stream",
          "name": "stdout",
          "text": [
            "💡 Final Output:\n",
            " The code executed successfully and returned `2.0`. There were no errors. If you have any more code to run or need further assistance, feel free to ask!\n"
          ]
        }
      ]
    }
  ]
}